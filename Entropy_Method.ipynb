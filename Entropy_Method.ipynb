{
  "nbformat": 4,
  "nbformat_minor": 0,
  "metadata": {
    "colab": {
      "provenance": [],
      "authorship_tag": "ABX9TyO58R28otBneE8e5/PNKRAP",
      "include_colab_link": true
    },
    "kernelspec": {
      "name": "python3",
      "display_name": "Python 3"
    },
    "language_info": {
      "name": "python"
    }
  },
  "cells": [
    {
      "cell_type": "markdown",
      "metadata": {
        "id": "view-in-github",
        "colab_type": "text"
      },
      "source": [
        "<a href=\"https://colab.research.google.com/github/HaojingGao/APEC-portfolio/blob/main/Entropy_Method.ipynb\" target=\"_parent\"><img src=\"https://colab.research.google.com/assets/colab-badge.svg\" alt=\"Open In Colab\"/></a>"
      ]
    },
    {
      "cell_type": "code",
      "execution_count": null,
      "metadata": {
        "id": "J-C86K8hw6OM"
      },
      "outputs": [],
      "source": []
    },
    {
      "cell_type": "markdown",
      "source": [
        "#Ingest"
      ],
      "metadata": {
        "id": "ADjPZ0wFERbh"
      }
    },
    {
      "cell_type": "code",
      "source": [
        "import numpy as np\n",
        "import pandas as pd\n"
      ],
      "metadata": {
        "id": "XHbKWXs1ETu3"
      },
      "execution_count": 2,
      "outputs": []
    },
    {
      "cell_type": "code",
      "source": [],
      "metadata": {
        "id": "78K6M16UEXIR"
      },
      "execution_count": null,
      "outputs": []
    },
    {
      "cell_type": "markdown",
      "source": [
        "#Entropy-Method"
      ],
      "metadata": {
        "id": "QDHoq786EaSN"
      }
    },
    {
      "cell_type": "code",
      "source": [
        "# Load the local file\n",
        "file_path = '/APECData_normalized.xlsx'\n",
        "\n",
        "# Read the data in Excel into the data frame\n",
        "data_frame = pd.read_excel(file_path)\n",
        "\n",
        "\n",
        "\n",
        "# Rename the columns\n",
        "data_frame.columns = [\n",
        "    'Country', 'Traffic_Risk', 'Personal_Risk', 'Change_Trend',\n",
        "    'Alcohol_Deaths', 'Seatbelt_Use', 'Helmet_Use', 'Non_Motorcycle_Vehicles',\n",
        "    'Vehicle_Standards', 'Road_Safety_Audits', 'Urban_Population',\n",
        "    'GDP_per_Capita', 'Life_Expectancy', 'Adult_Literacy', 'Speed_Limit_Enforcement',\n",
        "    'Drink_Driving_Enforcement', 'Seatbelt_Enforcement', 'Helmet_Use_Enforcement', 'HDI'\n",
        "]\n",
        "\n",
        "data_frame_clean = data_frame.dropna(subset=['Country'])\n",
        "\n",
        "# Find the numerical columns that need to normalize\n",
        "numerical_columns = [\n",
        "    'Traffic_Risk', 'Personal_Risk', 'Change_Trend', 'Alcohol_Deaths', 'Seatbelt_Use',\n",
        "    'Helmet_Use', 'Non_Motorcycle_Vehicles', 'Vehicle_Standards', 'Road_Safety_Audits',\n",
        "    'Urban_Population', 'GDP_per_Capita', 'Life_Expectancy', 'Adult_Literacy',\n",
        "    'Speed_Limit_Enforcement', 'Drink_Driving_Enforcement', 'Seatbelt_Enforcement',\n",
        "    'Helmet_Use_Enforcement', 'HDI'\n",
        "]\n",
        "\n",
        "# Convert numerical columns into numpy arrays\n",
        "Z = data_frame_clean[numerical_columns].astype(float).to_numpy()\n",
        "\n",
        "\n",
        "# Define mylog function to handle log(0) error\n",
        "def mylog(p):\n",
        "    return np.log(np.where(p == 0, 1, p))\n",
        "\n",
        "m, n = Z.shape    # Obtain numbers of rows and columns for matrix X\n",
        "D = np.zeros(n)   # Initialize an empty array to save the indicator weights\n",
        "\n",
        "for i in range(n):\n",
        "  x = Z[:, i]   #Initialize the data in ith indicator\n",
        "  probability = x / np.sum(x)\n",
        "  # print(probability)\n",
        "  entropy = -np.sum(probability * mylog(probability)) / np.log(m)\n",
        "  # print(entropy)\n",
        "  D[i] = 1 - entropy\n",
        "\n",
        "weights = D / np.sum(D)\n",
        "\n",
        "# Convert weights to DataFrame\n",
        "weights_df = pd.DataFrame(weights, index=numerical_columns, columns=['Weight'])\n",
        "\n",
        "# Insert headers for weights\n",
        "weights_df.insert(0, 'Indicators', numerical_columns)\n",
        "\n",
        "# Format numerical columns to three decimal places\n",
        "weights_df['Weight'] = weights_df['Weight'].apply(lambda x: f\"{x:.3f}\")\n",
        "\n",
        "# Save normalized data into new local file\n",
        "output_file_path = '/APECData_weights.xlsx'\n",
        "weights_df.to_excel(output_file_path, index=False)\n",
        "\n",
        "\n",
        "\n",
        "\n"
      ],
      "metadata": {
        "id": "OXfq8XMuEelu"
      },
      "execution_count": 19,
      "outputs": []
    },
    {
      "cell_type": "code",
      "source": [],
      "metadata": {
        "id": "GZgSmz4Tmyd2"
      },
      "execution_count": null,
      "outputs": []
    }
  ]
}