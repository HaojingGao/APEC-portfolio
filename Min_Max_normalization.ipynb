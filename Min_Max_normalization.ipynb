{
  "nbformat": 4,
  "nbformat_minor": 0,
  "metadata": {
    "colab": {
      "provenance": [],
      "authorship_tag": "ABX9TyOB989G5jBYXYoscRo9rs1w",
      "include_colab_link": true
    },
    "kernelspec": {
      "name": "python3",
      "display_name": "Python 3"
    },
    "language_info": {
      "name": "python"
    }
  },
  "cells": [
    {
      "cell_type": "markdown",
      "metadata": {
        "id": "view-in-github",
        "colab_type": "text"
      },
      "source": [
        "<a href=\"https://colab.research.google.com/github/HaojingGao/APEC-portfolio/blob/main/Min_Max_normalization.ipynb\" target=\"_parent\"><img src=\"https://colab.research.google.com/assets/colab-badge.svg\" alt=\"Open In Colab\"/></a>"
      ]
    },
    {
      "cell_type": "code",
      "execution_count": 7,
      "metadata": {
        "colab": {
          "base_uri": "https://localhost:8080/"
        },
        "id": "f7b0LtysVaPc",
        "outputId": "a4e710d5-b763-452e-9e5a-09af5e33f27d"
      },
      "outputs": [
        {
          "output_type": "stream",
          "name": "stdout",
          "text": [
            "Python 3.10.12\n"
          ]
        }
      ],
      "source": [
        "!python --version"
      ]
    },
    {
      "cell_type": "markdown",
      "source": [
        "##Ingest"
      ],
      "metadata": {
        "id": "HlRXhYgFWDLQ"
      }
    },
    {
      "cell_type": "code",
      "source": [
        "import numpy as np\n",
        "import pandas as pd\n",
        "import openpyxl as op"
      ],
      "metadata": {
        "id": "Dfw-UlAyWJzH"
      },
      "execution_count": 10,
      "outputs": []
    },
    {
      "cell_type": "markdown",
      "source": [
        "##Min-Max normalization"
      ],
      "metadata": {
        "id": "_v7QkyPOWKjG"
      }
    },
    {
      "cell_type": "code",
      "source": [
        "#Load the local file\n",
        "file_path = '/APECData_20230822.xlsx'\n",
        "\n",
        "#Read the data in Excel into the data frame\n",
        "data_frame = pd.read_excel(file_path, skiprows=3)\n",
        "\n",
        "#Rename the columns\n",
        "data_frame.columns = [\n",
        "    'Country', 'Country_Code', 'Traffic_Risk', 'Personal_Risk', 'Change_Trend',\n",
        "    'Alcohol_Deaths', 'Seatbelt_Use', 'Helmet_Use', 'Non_Motorcycle_Vehicles',\n",
        "    'Vehicle_Standards', 'Road_Safety_Audits', 'Urban_Population',\n",
        "    'GDP_per_Capita', 'Life_Expectancy', 'Adult_Literacy', 'Speed_Limit_Enforcement',\n",
        "    'Drink_Driving_Enforcement', 'Seatbelt_Enforcement', 'Helmet_Use_Enforcement', 'HDI'\n",
        "]\n",
        "\n",
        "\n",
        "data_frame_clean = data_frame.dropna(subset=['Country_Code'])\n",
        "\n",
        "#Find the numerical columns that need to normalize\n",
        "numerical_columns = [\n",
        "    'Traffic_Risk', 'Personal_Risk', 'Change_Trend', 'Alcohol_Deaths', 'Seatbelt_Use',\n",
        "    'Helmet_Use', 'Non_Motorcycle_Vehicles', 'Vehicle_Standards', 'Road_Safety_Audits',\n",
        "    'Urban_Population', 'GDP_per_Capita', 'Life_Expectancy', 'Adult_Literacy',\n",
        "    'Speed_Limit_Enforcement', 'Drink_Driving_Enforcement', 'Seatbelt_Enforcement',\n",
        "    'Helmet_Use_Enforcement', 'HDI'\n",
        "]\n",
        "\n",
        "#Convert numerical columns into numpy arrays\n",
        "X = data_frame_clean[numerical_columns].astype(float).to_numpy()\n",
        "\n",
        "\n",
        "def min_max_normalization(X):\n",
        "    X_min = np.min(X, axis=0)\n",
        "    X_max = np.max(X, axis=0)\n",
        "    X_normalized = (X - X_min) / (X_max - X_min)\n",
        "    return X_normalized\n",
        "\n",
        "#Perform normalization\n",
        "x_min_max_normalization = min_max_normalization(X)\n",
        "\n",
        "#Input normalized data into data frame\n",
        "data_frame_normalized = pd.DataFrame(x_min_max_normalization, columns = numerical_columns)\n",
        "\n",
        "#Including country names\n",
        "data_frame_normalized.insert(0, 'Country', data_frame_clean['Country'].values)\n",
        "\n",
        "# Format numerical columns to three decimal places\n",
        "for column in numerical_columns:\n",
        "    data_frame_normalized[column] = data_frame_normalized[column].apply(lambda x: f\"{x:.3f}\")\n",
        "\n",
        "#Save normalized data into new local file\n",
        "output_file_path = '/APECData_normalized.xlsx'\n",
        "data_frame_normalized.to_excel(output_file_path, index=False)\n",
        "\n",
        "\n",
        "output_file_path\n"
      ],
      "metadata": {
        "colab": {
          "base_uri": "https://localhost:8080/",
          "height": 35
        },
        "id": "-NUszo6AWO5V",
        "outputId": "15f97890-66e4-488e-a654-17573b7bfd6d"
      },
      "execution_count": 26,
      "outputs": [
        {
          "output_type": "execute_result",
          "data": {
            "text/plain": [
              "'/APECData_normalized.xlsx'"
            ],
            "application/vnd.google.colaboratory.intrinsic+json": {
              "type": "string"
            }
          },
          "metadata": {},
          "execution_count": 26
        }
      ]
    },
    {
      "cell_type": "code",
      "source": [],
      "metadata": {
        "id": "aIoHnmSwiRco"
      },
      "execution_count": null,
      "outputs": []
    }
  ]
}